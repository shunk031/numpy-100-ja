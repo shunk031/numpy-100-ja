{
 "cells": [
  {
   "cell_type": "markdown",
   "metadata": {
    "ExecuteTime": {
     "end_time": "2016-08-03T21:36:33.544714",
     "start_time": "2016-08-03T21:36:33.420831"
    }
   },
   "source": [
    "# 100 numpy exercises in Japanese\n",
    "\n",
    "numpyメーリングリストやStackOverflow、numpyドキュメントから集められたエクササイズのコレクションです。その中から100個選んで作りました。このエクササイズのゴールは、古参ユーザや新しいユーザ両方に対してクイックリファレンスを提供するものです。また、numpyを教える立場の人たちに対しても提供しています。"
   ]
  },
  {
   "cell_type": "markdown",
   "metadata": {},
   "source": [
    "## 001. [★☆☆] *np*という名前でnumpyパッケージをインポート"
   ]
  },
  {
   "cell_type": "code",
   "execution_count": 1,
   "metadata": {
    "ExecuteTime": {
     "end_time": "2016-08-18T01:17:50.235033",
     "start_time": "2016-08-18T01:17:50.108818"
    },
    "collapsed": true
   },
   "outputs": [],
   "source": [
    "import numpy as np"
   ]
  },
  {
   "cell_type": "markdown",
   "metadata": {},
   "source": [
    "## 002. [★☆☆] numpyのバージョンと設定を表示"
   ]
  },
  {
   "cell_type": "code",
   "execution_count": 2,
   "metadata": {
    "ExecuteTime": {
     "end_time": "2016-08-18T01:17:50.244927",
     "start_time": "2016-08-18T01:17:50.239427"
    },
    "collapsed": false
   },
   "outputs": [
    {
     "name": "stdout",
     "output_type": "stream",
     "text": [
      "1.11.1\n"
     ]
    }
   ],
   "source": [
    "print(np.__version__)\n",
    "# np.show_config()"
   ]
  },
  {
   "cell_type": "markdown",
   "metadata": {},
   "source": [
    "## 003. [★☆☆] サイズ10のnullベクトルを生成"
   ]
  },
  {
   "cell_type": "code",
   "execution_count": 3,
   "metadata": {
    "ExecuteTime": {
     "end_time": "2016-08-18T01:17:50.263596",
     "start_time": "2016-08-18T01:17:50.246978"
    },
    "collapsed": false
   },
   "outputs": [
    {
     "name": "stdout",
     "output_type": "stream",
     "text": [
      "[ 0.  0.  0.  0.  0.  0.  0.  0.  0.  0.]\n"
     ]
    }
   ],
   "source": [
    "Z = np.zeros(10)\n",
    "print(Z)"
   ]
  },
  {
   "cell_type": "markdown",
   "metadata": {},
   "source": [
    "## 004. [★☆☆] 任意の配列のメモリサイズを表示"
   ]
  },
  {
   "cell_type": "code",
   "execution_count": 4,
   "metadata": {
    "ExecuteTime": {
     "end_time": "2016-08-18T01:17:50.279678",
     "start_time": "2016-08-18T01:17:50.265858"
    },
    "collapsed": false
   },
   "outputs": [
    {
     "name": "stdout",
     "output_type": "stream",
     "text": [
      "800 bytes\n"
     ]
    }
   ],
   "source": [
    "Z = np.zeros((10,10))\n",
    "print(\"%d bytes\" % (Z.size * Z.itemsize))"
   ]
  },
  {
   "cell_type": "markdown",
   "metadata": {},
   "source": [
    "## 005. [★☆☆] コマンドラインからnumpyのadd()のドキュメントを得る"
   ]
  },
  {
   "cell_type": "code",
   "execution_count": 5,
   "metadata": {
    "ExecuteTime": {
     "end_time": "2016-08-18T01:17:50.295325",
     "start_time": "2016-08-18T01:17:50.281905"
    },
    "collapsed": true
   },
   "outputs": [],
   "source": [
    "%run 'python -c \"import numpy; numpy.info(numpy.add)\"'"
   ]
  },
  {
   "cell_type": "markdown",
   "metadata": {},
   "source": [
    "## 006. [★☆☆] サイズ10のゼロベクトルを生成し、5番目の要素に1を入れる"
   ]
  },
  {
   "cell_type": "code",
   "execution_count": 6,
   "metadata": {
    "ExecuteTime": {
     "end_time": "2016-08-18T01:17:50.313237",
     "start_time": "2016-08-18T01:17:50.297679"
    },
    "collapsed": false
   },
   "outputs": [
    {
     "name": "stdout",
     "output_type": "stream",
     "text": [
      "[ 0.  0.  0.  0.  1.  0.  0.  0.  0.  0.]\n"
     ]
    }
   ],
   "source": [
    "Z = np.zeros(10)\n",
    "Z[4] = 1\n",
    "print(Z)"
   ]
  },
  {
   "cell_type": "markdown",
   "metadata": {},
   "source": [
    "## 007. [★☆☆] 10から49までの範囲の値が入ったベクトルを生成する"
   ]
  },
  {
   "cell_type": "code",
   "execution_count": 7,
   "metadata": {
    "ExecuteTime": {
     "end_time": "2016-08-18T01:17:50.338045",
     "start_time": "2016-08-18T01:17:50.315453"
    },
    "collapsed": false
   },
   "outputs": [
    {
     "name": "stdout",
     "output_type": "stream",
     "text": [
      "[10 11 12 13 14 15 16 17 18 19 20 21 22 23 24 25 26 27 28 29 30 31 32 33 34\n",
      " 35 36 37 38 39 40 41 42 43 44 45 46 47 48 49]\n"
     ]
    }
   ],
   "source": [
    "Z = np.arange(10,50)\n",
    "print(Z)"
   ]
  },
  {
   "cell_type": "markdown",
   "metadata": {},
   "source": [
    "## 008. [★☆☆] 最初の要素が最後に来るようにベクトルの要素を逆順にする"
   ]
  },
  {
   "cell_type": "code",
   "execution_count": 8,
   "metadata": {
    "ExecuteTime": {
     "end_time": "2016-08-18T01:17:50.364051",
     "start_time": "2016-08-18T01:17:50.342619"
    },
    "collapsed": false
   },
   "outputs": [
    {
     "name": "stdout",
     "output_type": "stream",
     "text": [
      "[49 48 47 46 45 44 43 42 41 40 39 38 37 36 35 34 33 32 31 30 29 28 27 26 25\n",
      " 24 23 22 21 20 19 18 17 16 15 14 13 12 11 10  9  8  7  6  5  4  3  2  1  0]\n"
     ]
    }
   ],
   "source": [
    "Z = np.arange(50)\n",
    "Z = Z[::-1]\n",
    "print(Z)"
   ]
  },
  {
   "cell_type": "markdown",
   "metadata": {},
   "source": [
    "## 009. [★☆☆] 0から8の要素が入った$3 \\times 3$の行列を生成"
   ]
  },
  {
   "cell_type": "code",
   "execution_count": 9,
   "metadata": {
    "ExecuteTime": {
     "end_time": "2016-08-18T01:17:50.379656",
     "start_time": "2016-08-18T01:17:50.368266"
    },
    "collapsed": false
   },
   "outputs": [
    {
     "name": "stdout",
     "output_type": "stream",
     "text": [
      "[[0 1 2]\n",
      " [3 4 5]\n",
      " [6 7 8]]\n"
     ]
    }
   ],
   "source": [
    "Z = np.arange(9).reshape(3,3)\n",
    "print(Z)"
   ]
  },
  {
   "cell_type": "markdown",
   "metadata": {},
   "source": [
    "## 010. [★☆☆] *[1,2,0,0,4,0]*からゼロでない要素のインデックスを表示"
   ]
  },
  {
   "cell_type": "code",
   "execution_count": 10,
   "metadata": {
    "ExecuteTime": {
     "end_time": "2016-08-18T01:17:50.401505",
     "start_time": "2016-08-18T01:17:50.384331"
    },
    "collapsed": false
   },
   "outputs": [
    {
     "name": "stdout",
     "output_type": "stream",
     "text": [
      "(array([0, 1, 4]),)\n"
     ]
    }
   ],
   "source": [
    "nz = np.nonzero([1,2,0,0,4,0])\n",
    "print(nz)"
   ]
  },
  {
   "cell_type": "markdown",
   "metadata": {},
   "source": [
    "## 011. [★☆☆] $3 \\times 3$の単位行列を生成"
   ]
  },
  {
   "cell_type": "code",
   "execution_count": 11,
   "metadata": {
    "ExecuteTime": {
     "end_time": "2016-08-18T01:17:50.417553",
     "start_time": "2016-08-18T01:17:50.409694"
    },
    "collapsed": false
   },
   "outputs": [
    {
     "name": "stdout",
     "output_type": "stream",
     "text": [
      "[[ 1.  0.  0.]\n",
      " [ 0.  1.  0.]\n",
      " [ 0.  0.  1.]]\n"
     ]
    }
   ],
   "source": [
    "Z = np.eye(3)\n",
    "print(Z)"
   ]
  },
  {
   "cell_type": "markdown",
   "metadata": {},
   "source": [
    "## 012. [★☆☆] ランダムな要素が入っている$3 \\times 3 \\times 3$の行列を生成"
   ]
  },
  {
   "cell_type": "code",
   "execution_count": 12,
   "metadata": {
    "ExecuteTime": {
     "end_time": "2016-08-18T01:17:50.447018",
     "start_time": "2016-08-18T01:17:50.421398"
    },
    "collapsed": false
   },
   "outputs": [
    {
     "name": "stdout",
     "output_type": "stream",
     "text": [
      "[[[ 0.87107812  0.80086236  0.67018817]\n",
      "  [ 0.95884062  0.93050125  0.61722277]\n",
      "  [ 0.91621588  0.68028839  0.05034147]]\n",
      "\n",
      " [[ 0.3950985   0.4092802   0.52953544]\n",
      "  [ 0.3144707   0.57301456  0.09784126]\n",
      "  [ 0.17699006  0.40921188  0.7694939 ]]\n",
      "\n",
      " [[ 0.36251186  0.55954936  0.94527666]\n",
      "  [ 0.68527258  0.61953941  0.21304502]\n",
      "  [ 0.21603525  0.49961274  0.28367565]]]\n"
     ]
    }
   ],
   "source": [
    "Z = np.random.random((3,3,3))\n",
    "print(Z)"
   ]
  },
  {
   "cell_type": "markdown",
   "metadata": {},
   "source": [
    "## 013. [★☆☆] ランダムな要素の$10 \\times 10$行列を生成し、最大値と最小値を表示"
   ]
  },
  {
   "cell_type": "code",
   "execution_count": 13,
   "metadata": {
    "ExecuteTime": {
     "end_time": "2016-08-18T01:17:50.463746",
     "start_time": "2016-08-18T01:17:50.451471"
    },
    "collapsed": false
   },
   "outputs": [
    {
     "name": "stdout",
     "output_type": "stream",
     "text": [
      "0.0089333287272 0.985672739013\n"
     ]
    }
   ],
   "source": [
    "Z = np.random.random((10,10))\n",
    "Zmin = Z.min(); Zmax = Z.max()\n",
    "print(Zmin, Zmax)"
   ]
  },
  {
   "cell_type": "markdown",
   "metadata": {},
   "source": [
    "## 014. [★☆☆] サイズ30でランダムな要素のベクトルを生成し、要素の平均値を表示"
   ]
  },
  {
   "cell_type": "code",
   "execution_count": 14,
   "metadata": {
    "ExecuteTime": {
     "end_time": "2016-08-18T01:17:50.480317",
     "start_time": "2016-08-18T01:17:50.468222"
    },
    "collapsed": false
   },
   "outputs": [
    {
     "name": "stdout",
     "output_type": "stream",
     "text": [
      "0.594439524518\n"
     ]
    }
   ],
   "source": [
    "Z = np.random.random(30)\n",
    "Zmean = Z.mean()\n",
    "print(Zmean)"
   ]
  },
  {
   "cell_type": "markdown",
   "metadata": {},
   "source": [
    "## 015. [★☆☆] 0のまわりを1が囲むような2次元行列を生成"
   ]
  },
  {
   "cell_type": "code",
   "execution_count": 15,
   "metadata": {
    "ExecuteTime": {
     "end_time": "2016-08-18T01:17:50.504888",
     "start_time": "2016-08-18T01:17:50.483853"
    },
    "collapsed": false
   },
   "outputs": [
    {
     "name": "stdout",
     "output_type": "stream",
     "text": [
      "[[ 1.  1.  1.  1.  1.  1.  1.  1.  1.  1.]\n",
      " [ 1.  0.  0.  0.  0.  0.  0.  0.  0.  1.]\n",
      " [ 1.  0.  0.  0.  0.  0.  0.  0.  0.  1.]\n",
      " [ 1.  0.  0.  0.  0.  0.  0.  0.  0.  1.]\n",
      " [ 1.  0.  0.  0.  0.  0.  0.  0.  0.  1.]\n",
      " [ 1.  0.  0.  0.  0.  0.  0.  0.  0.  1.]\n",
      " [ 1.  0.  0.  0.  0.  0.  0.  0.  0.  1.]\n",
      " [ 1.  0.  0.  0.  0.  0.  0.  0.  0.  1.]\n",
      " [ 1.  0.  0.  0.  0.  0.  0.  0.  0.  1.]\n",
      " [ 1.  1.  1.  1.  1.  1.  1.  1.  1.  1.]]\n"
     ]
    }
   ],
   "source": [
    "Z = np.ones((10,10))\n",
    "Z[1:-1, 1:-1] = 0\n",
    "print(Z)"
   ]
  },
  {
   "cell_type": "markdown",
   "metadata": {},
   "source": [
    "## 016. [★☆☆] もともとある行列を使って周りを0で囲むような行列を生成"
   ]
  },
  {
   "cell_type": "code",
   "execution_count": 16,
   "metadata": {
    "ExecuteTime": {
     "end_time": "2016-08-18T01:17:50.531341",
     "start_time": "2016-08-18T01:17:50.508729"
    },
    "collapsed": false
   },
   "outputs": [
    {
     "name": "stdout",
     "output_type": "stream",
     "text": [
      "[[ 0.  0.  0.  0.  0.  0.  0.]\n",
      " [ 0.  1.  1.  1.  1.  1.  0.]\n",
      " [ 0.  1.  1.  1.  1.  1.  0.]\n",
      " [ 0.  1.  1.  1.  1.  1.  0.]\n",
      " [ 0.  1.  1.  1.  1.  1.  0.]\n",
      " [ 0.  1.  1.  1.  1.  1.  0.]\n",
      " [ 0.  0.  0.  0.  0.  0.  0.]]\n"
     ]
    }
   ],
   "source": [
    "Z = np.ones((5,5))\n",
    "Z = np.pad(Z, pad_width=1, mode='constant', constant_values=0)\n",
    "print(Z)"
   ]
  },
  {
   "cell_type": "markdown",
   "metadata": {},
   "source": [
    "## 017. [★☆☆] 以下の式を評価するとどのような結果になるか"
   ]
  },
  {
   "cell_type": "code",
   "execution_count": 17,
   "metadata": {
    "ExecuteTime": {
     "end_time": "2016-08-18T01:17:50.551115",
     "start_time": "2016-08-18T01:17:50.536192"
    },
    "collapsed": false
   },
   "outputs": [
    {
     "name": "stdout",
     "output_type": "stream",
     "text": [
      "nan\n",
      "False\n",
      "False\n",
      "nan\n",
      "False\n"
     ]
    }
   ],
   "source": [
    "print(0 * np.nan)\n",
    "print(np.nan == np.nan)\n",
    "print(np.inf > np.nan)\n",
    "print(np.nan - np.nan)\n",
    "print(0.3 == 3 * 0.1)"
   ]
  },
  {
   "cell_type": "markdown",
   "metadata": {},
   "source": [
    "## 018. [★☆☆] $5 \\times 5$を生成し、要素*[1,2,3,4]*を対角要素より一つ下に入れる"
   ]
  },
  {
   "cell_type": "code",
   "execution_count": 18,
   "metadata": {
    "ExecuteTime": {
     "end_time": "2016-08-18T01:17:50.569573",
     "start_time": "2016-08-18T01:17:50.553897"
    },
    "collapsed": false
   },
   "outputs": [
    {
     "name": "stdout",
     "output_type": "stream",
     "text": [
      "[[0 0 0 0 0]\n",
      " [1 0 0 0 0]\n",
      " [0 2 0 0 0]\n",
      " [0 0 3 0 0]\n",
      " [0 0 0 4 0]]\n"
     ]
    }
   ],
   "source": [
    "Z = np.diag(1+np.arange(4), k=-1)\n",
    "print(Z)"
   ]
  },
  {
   "cell_type": "markdown",
   "metadata": {},
   "source": [
    "## 019. [★☆☆] $8 \\times 8$の行列を生成し、チェッカーボードパターンとなるよう要素を入れる"
   ]
  },
  {
   "cell_type": "code",
   "execution_count": 19,
   "metadata": {
    "ExecuteTime": {
     "end_time": "2016-08-18T01:17:50.591034",
     "start_time": "2016-08-18T01:17:50.573787"
    },
    "collapsed": false
   },
   "outputs": [
    {
     "name": "stdout",
     "output_type": "stream",
     "text": [
      "[[0 1 0 1 0 1 0 1]\n",
      " [1 0 1 0 1 0 1 0]\n",
      " [0 1 0 1 0 1 0 1]\n",
      " [1 0 1 0 1 0 1 0]\n",
      " [0 1 0 1 0 1 0 1]\n",
      " [1 0 1 0 1 0 1 0]\n",
      " [0 1 0 1 0 1 0 1]\n",
      " [1 0 1 0 1 0 1 0]]\n"
     ]
    }
   ],
   "source": [
    "Z = np.zeros((8,8), dtype=int)\n",
    "Z[1::2, ::2] = 1\n",
    "Z[::2, 1::2] = 1\n",
    "print(Z)"
   ]
  },
  {
   "cell_type": "markdown",
   "metadata": {},
   "source": [
    "## 020. [★☆☆] $6 \\times 7 \\times 8$の行列において、100番目の要素のインデックス$(x,y,z)$はいくつか"
   ]
  },
  {
   "cell_type": "code",
   "execution_count": 20,
   "metadata": {
    "ExecuteTime": {
     "end_time": "2016-08-18T01:17:50.607713",
     "start_time": "2016-08-18T01:17:50.593636"
    },
    "collapsed": false
   },
   "outputs": [
    {
     "name": "stdout",
     "output_type": "stream",
     "text": [
      "(1, 5, 4)\n"
     ]
    }
   ],
   "source": [
    "print(np.unravel_index(100,(6,7,8)))"
   ]
  },
  {
   "cell_type": "markdown",
   "metadata": {},
   "source": [
    "## 021. [★☆☆] tileメソッドを用いて$8 \\times 8$のチェッカーボードパターンの行列を生成する"
   ]
  },
  {
   "cell_type": "code",
   "execution_count": 21,
   "metadata": {
    "ExecuteTime": {
     "end_time": "2016-08-18T01:17:50.631762",
     "start_time": "2016-08-18T01:17:50.611446"
    },
    "collapsed": false
   },
   "outputs": [
    {
     "name": "stdout",
     "output_type": "stream",
     "text": [
      "[[0 1 0 1 0 1 0 1]\n",
      " [1 0 1 0 1 0 1 0]\n",
      " [0 1 0 1 0 1 0 1]\n",
      " [1 0 1 0 1 0 1 0]\n",
      " [0 1 0 1 0 1 0 1]\n",
      " [1 0 1 0 1 0 1 0]\n",
      " [0 1 0 1 0 1 0 1]\n",
      " [1 0 1 0 1 0 1 0]]\n"
     ]
    }
   ],
   "source": [
    "Z = np.tile(np.array([[0,1],[1,0]]),(4,4))\n",
    "print(Z)"
   ]
  },
  {
   "cell_type": "markdown",
   "metadata": {},
   "source": [
    "## 022. [★☆☆] ランダムな$5 \\times 5$行列を正規化する"
   ]
  },
  {
   "cell_type": "code",
   "execution_count": 22,
   "metadata": {
    "ExecuteTime": {
     "end_time": "2016-08-18T01:17:50.651873",
     "start_time": "2016-08-18T01:17:50.638836"
    },
    "collapsed": false
   },
   "outputs": [
    {
     "name": "stdout",
     "output_type": "stream",
     "text": [
      "[[ 0.62732513  0.55855457  0.          0.33840901  0.25704199]\n",
      " [ 0.77184203  0.04699147  0.67315418  0.25775669  0.51345665]\n",
      " [ 0.01253122  0.08009281  0.25707249  0.10817682  0.30807987]\n",
      " [ 0.88887678  0.17872462  0.37899307  0.25171052  0.5133675 ]\n",
      " [ 0.93383467  0.05158627  0.484836    1.          0.16546019]]\n"
     ]
    }
   ],
   "source": [
    "Z = np.random.random((5,5))\n",
    "Zmax, Zmin = Z.max(), Z.min()\n",
    "Z = (Z - Zmin) / (Zmax - Zmin)\n",
    "print(Z)"
   ]
  },
  {
   "cell_type": "markdown",
   "metadata": {},
   "source": [
    "## 023. [★☆☆] 色を表すような4つの符号なし数値をカスタムdtypeとして生成する"
   ]
  },
  {
   "cell_type": "code",
   "execution_count": 23,
   "metadata": {
    "ExecuteTime": {
     "end_time": "2016-08-18T01:17:50.670505",
     "start_time": "2016-08-18T01:17:50.656802"
    },
    "collapsed": true
   },
   "outputs": [],
   "source": [
    "color = np.dtype([(\"r\", np.ubyte, 1),\n",
    "                  (\"g\", np.ubyte, 1),\n",
    "                  (\"b\", np.ubyte, 1),\n",
    "                  (\"a\", np.ubyte, 1)])"
   ]
  },
  {
   "cell_type": "markdown",
   "metadata": {},
   "source": [
    "## 024. [★☆☆] $5 \\times 3$行列と$3 \\times 2$行列を掛け合わせる"
   ]
  },
  {
   "cell_type": "code",
   "execution_count": 24,
   "metadata": {
    "ExecuteTime": {
     "end_time": "2016-08-18T01:17:50.695853",
     "start_time": "2016-08-18T01:17:50.674618"
    },
    "collapsed": false
   },
   "outputs": [
    {
     "name": "stdout",
     "output_type": "stream",
     "text": [
      "[[ 3.  3.]\n",
      " [ 3.  3.]\n",
      " [ 3.  3.]\n",
      " [ 3.  3.]\n",
      " [ 3.  3.]]\n"
     ]
    }
   ],
   "source": [
    "Z = np.dot(np.ones((5,3)), np.ones((3,2)))\n",
    "print(Z)"
   ]
  },
  {
   "cell_type": "markdown",
   "metadata": {},
   "source": [
    "## 025. [★☆☆] 与えられたベクトルについて、3から8までの数値について負数にする"
   ]
  },
  {
   "cell_type": "code",
   "execution_count": 25,
   "metadata": {
    "ExecuteTime": {
     "end_time": "2016-08-18T01:17:50.713137",
     "start_time": "2016-08-18T01:17:50.700125"
    },
    "collapsed": false
   },
   "outputs": [
    {
     "name": "stdout",
     "output_type": "stream",
     "text": [
      "[ 0  1  2  3 -4 -5 -6 -7 -8  9 10]\n"
     ]
    }
   ],
   "source": [
    "Z = np.arange(11)\n",
    "Z[(3 < Z) & (Z <= 8)] *= -1\n",
    "print(Z)"
   ]
  },
  {
   "cell_type": "markdown",
   "metadata": {},
   "source": [
    "## 026. [★☆☆] 下のスクリプトを実行したらどのような出力が得られるか？\n",
    "\n",
    "```python\n",
    "print(sum(range(5), -1))\n",
    "from numpy import *\n",
    "print(sum(range(5), -1))\n",
    "```"
   ]
  },
  {
   "cell_type": "code",
   "execution_count": 26,
   "metadata": {
    "ExecuteTime": {
     "end_time": "2016-08-18T01:17:50.732357",
     "start_time": "2016-08-18T01:17:50.719368"
    },
    "collapsed": false
   },
   "outputs": [
    {
     "name": "stdout",
     "output_type": "stream",
     "text": [
      "9\n",
      "10\n"
     ]
    }
   ],
   "source": [
    "print(sum(range(5), -1))\n",
    "from numpy import *\n",
    "print(sum(range(5), -1))"
   ]
  },
  {
   "cell_type": "markdown",
   "metadata": {},
   "source": [
    "## 027. [★☆☆] 整数要素を持つベクトル$Z$について、以下のスクリプトで正しいものは？\n",
    "\n",
    "```python\n",
    "Z ** Z\n",
    "2 << Z >> 2\n",
    "Z <- Z\n",
    "1j * Z\n",
    "Z/1/1\n",
    "Z<Z>Z\n",
    "```"
   ]
  },
  {
   "cell_type": "code",
   "execution_count": 27,
   "metadata": {
    "ExecuteTime": {
     "end_time": "2016-08-18T01:17:50.750651",
     "start_time": "2016-08-18T01:17:50.738345"
    },
    "collapsed": true
   },
   "outputs": [],
   "source": [
    "import numpy as np"
   ]
  },
  {
   "cell_type": "code",
   "execution_count": 28,
   "metadata": {
    "ExecuteTime": {
     "end_time": "2016-08-18T01:17:50.797714",
     "start_time": "2016-08-18T01:17:50.754182"
    },
    "collapsed": false
   },
   "outputs": [
    {
     "data": {
      "text/plain": [
       "array([  0.,   1.,   2.,   3.,  -4.,  -5.,  -6.,  -7.,  -8.,   9.,  10.])"
      ]
     },
     "execution_count": 28,
     "metadata": {},
     "output_type": "execute_result"
    }
   ],
   "source": [
    "Z ** Z\n",
    "2 << Z >> 2\n",
    "Z <- Z\n",
    "1j * Z\n",
    "Z/1/1\n",
    "#Z<Z>Z"
   ]
  },
  {
   "cell_type": "markdown",
   "metadata": {},
   "source": [
    "## 028. [★☆☆] 以下のスクリプトの結果はどのようなものになるか？\n",
    "\n",
    "```python\n",
    "print(np.array(0) / np.array(0))\n",
    "print(np.array(0) // np.array(0))\n",
    "print(np.array([np.nan]).astype(int).astype(float))\n",
    "```"
   ]
  },
  {
   "cell_type": "code",
   "execution_count": 29,
   "metadata": {
    "ExecuteTime": {
     "end_time": "2016-08-18T01:17:50.813281",
     "start_time": "2016-08-18T01:17:50.801755"
    },
    "collapsed": false
   },
   "outputs": [
    {
     "name": "stdout",
     "output_type": "stream",
     "text": [
      "[ -9.22337204e+18]\n"
     ]
    }
   ],
   "source": [
    "#print(np.array(0) / np.array(0))\n",
    "#print(np.array(0) // np.array(0))\n",
    "print(np.array([np.nan]).astype(int).astype(float))"
   ]
  },
  {
   "cell_type": "markdown",
   "metadata": {},
   "source": [
    "## 029. [★☆☆] 浮動小数点行列からどのように小数点以下切り上げを行うか"
   ]
  },
  {
   "cell_type": "code",
   "execution_count": 30,
   "metadata": {
    "ExecuteTime": {
     "end_time": "2016-08-18T01:17:50.834028",
     "start_time": "2016-08-18T01:17:50.818566"
    },
    "collapsed": false
   },
   "outputs": [
    {
     "name": "stdout",
     "output_type": "stream",
     "text": [
      "[  9.   7.   4.  -3.  -8.  -4.   9.  10.  -7.  -5.]\n"
     ]
    }
   ],
   "source": [
    "Z = np.random.uniform(-10, +10, 10)\n",
    "print(np.trunc(Z + np.copysign(0.5, Z)))"
   ]
  }
 ],
 "metadata": {
  "kernelspec": {
   "display_name": "Python 3",
   "language": "python",
   "name": "python3"
  },
  "language_info": {
   "codemirror_mode": {
    "name": "ipython",
    "version": 3
   },
   "file_extension": ".py",
   "mimetype": "text/x-python",
   "name": "python",
   "nbconvert_exporter": "python",
   "pygments_lexer": "ipython3",
   "version": "3.5.2"
  }
 },
 "nbformat": 4,
 "nbformat_minor": 0
}
