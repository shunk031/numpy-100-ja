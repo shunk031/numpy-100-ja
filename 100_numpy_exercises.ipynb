{
 "cells": [
  {
   "cell_type": "markdown",
   "metadata": {
    "ExecuteTime": {
     "end_time": "2016-08-03T21:36:33.544714",
     "start_time": "2016-08-03T21:36:33.420831"
    }
   },
   "source": [
    "# 100 numpy exercises in Japanese\n",
    "\n",
    "numpyメーリングリストやStackOverflow、numpyドキュメントから集められたエクササイズのコレクションです。その中から100個選んで作りました。このエクササイズのゴールは、古参ユーザや新しいユーザ両方に対してクイックリファレンスを提供するものです。また、numpyを教える立場の人たちに対しても提供しています。"
   ]
  },
  {
   "cell_type": "markdown",
   "metadata": {},
   "source": [
    "## 001. [★☆☆] *np*という名前でnumpyパッケージをインポート"
   ]
  },
  {
   "cell_type": "code",
   "execution_count": null,
   "metadata": {
    "ExecuteTime": {
     "end_time": "2016-09-25T17:14:10.202758",
     "start_time": "2016-09-25T17:14:10.137248"
    },
    "collapsed": true
   },
   "outputs": [],
   "source": [
    "import numpy as np"
   ]
  },
  {
   "cell_type": "markdown",
   "metadata": {},
   "source": [
    "## 002. [★☆☆] numpyのバージョンと設定を表示"
   ]
  },
  {
   "cell_type": "code",
   "execution_count": null,
   "metadata": {
    "ExecuteTime": {
     "end_time": "2016-09-25T17:14:10.207268",
     "start_time": "2016-09-25T17:14:10.204278"
    },
    "collapsed": false
   },
   "outputs": [],
   "source": [
    "print(np.__version__)\n",
    "# np.show_config()"
   ]
  },
  {
   "cell_type": "markdown",
   "metadata": {},
   "source": [
    "## 003. [★☆☆] サイズ10のnullベクトルを生成"
   ]
  },
  {
   "cell_type": "code",
   "execution_count": null,
   "metadata": {
    "ExecuteTime": {
     "end_time": "2016-09-25T17:14:10.213982",
     "start_time": "2016-09-25T17:14:10.208744"
    },
    "collapsed": false
   },
   "outputs": [],
   "source": [
    "Z = np.zeros(10)\n",
    "print(Z)"
   ]
  },
  {
   "cell_type": "markdown",
   "metadata": {},
   "source": [
    "## 004. [★☆☆] 任意の配列のメモリサイズを表示"
   ]
  },
  {
   "cell_type": "code",
   "execution_count": null,
   "metadata": {
    "ExecuteTime": {
     "end_time": "2016-09-25T17:14:10.219399",
     "start_time": "2016-09-25T17:14:10.215486"
    },
    "collapsed": false
   },
   "outputs": [],
   "source": [
    "Z = np.zeros((10,10))\n",
    "print(\"%d bytes\" % (Z.size * Z.itemsize))"
   ]
  },
  {
   "cell_type": "markdown",
   "metadata": {},
   "source": [
    "## 005. [★☆☆] コマンドラインからnumpyのadd()のドキュメントを得る"
   ]
  },
  {
   "cell_type": "code",
   "execution_count": null,
   "metadata": {
    "ExecuteTime": {
     "end_time": "2016-09-25T17:14:10.233469",
     "start_time": "2016-09-25T17:14:10.221011"
    },
    "collapsed": false
   },
   "outputs": [],
   "source": [
    "%run 'python -c \"import numpy; numpy.info(numpy.add)\"'"
   ]
  },
  {
   "cell_type": "markdown",
   "metadata": {},
   "source": [
    "## 006. [★☆☆] サイズ10のゼロベクトルを生成し、5番目の要素に1を入れる"
   ]
  },
  {
   "cell_type": "code",
   "execution_count": null,
   "metadata": {
    "ExecuteTime": {
     "end_time": "2016-09-25T17:14:10.244145",
     "start_time": "2016-09-25T17:14:10.234994"
    },
    "collapsed": false
   },
   "outputs": [],
   "source": [
    "Z = np.zeros(10)\n",
    "Z[4] = 1\n",
    "print(Z)"
   ]
  },
  {
   "cell_type": "markdown",
   "metadata": {},
   "source": [
    "## 007. [★☆☆] 10から49までの範囲の値が入ったベクトルを生成する"
   ]
  },
  {
   "cell_type": "code",
   "execution_count": null,
   "metadata": {
    "ExecuteTime": {
     "end_time": "2016-09-25T17:14:10.255568",
     "start_time": "2016-09-25T17:14:10.245686"
    },
    "collapsed": false
   },
   "outputs": [],
   "source": [
    "Z = np.arange(10,50)\n",
    "print(Z)"
   ]
  },
  {
   "cell_type": "markdown",
   "metadata": {},
   "source": [
    "## 008. [★☆☆] 最初の要素が最後に来るようにベクトルの要素を逆順にする"
   ]
  },
  {
   "cell_type": "code",
   "execution_count": null,
   "metadata": {
    "ExecuteTime": {
     "end_time": "2016-09-25T17:14:10.267619",
     "start_time": "2016-09-25T17:14:10.257034"
    },
    "collapsed": false
   },
   "outputs": [],
   "source": [
    "Z = np.arange(50)\n",
    "Z = Z[::-1]\n",
    "print(Z)"
   ]
  },
  {
   "cell_type": "markdown",
   "metadata": {},
   "source": [
    "## 009. [★☆☆] 0から8の要素が入った$3 \\times 3$の行列を生成"
   ]
  },
  {
   "cell_type": "code",
   "execution_count": null,
   "metadata": {
    "ExecuteTime": {
     "end_time": "2016-09-25T17:14:10.279153",
     "start_time": "2016-09-25T17:14:10.269203"
    },
    "collapsed": false
   },
   "outputs": [],
   "source": [
    "Z = np.arange(9).reshape(3,3)\n",
    "print(Z)"
   ]
  },
  {
   "cell_type": "markdown",
   "metadata": {},
   "source": [
    "## 010. [★☆☆] *[1,2,0,0,4,0]*からゼロでない要素のインデックスを表示"
   ]
  },
  {
   "cell_type": "code",
   "execution_count": null,
   "metadata": {
    "ExecuteTime": {
     "end_time": "2016-09-25T17:14:10.286472",
     "start_time": "2016-09-25T17:14:10.280724"
    },
    "collapsed": false
   },
   "outputs": [],
   "source": [
    "nz = np.nonzero([1,2,0,0,4,0])\n",
    "print(nz)"
   ]
  },
  {
   "cell_type": "markdown",
   "metadata": {},
   "source": [
    "## 011. [★☆☆] $3 \\times 3$の単位行列を生成"
   ]
  },
  {
   "cell_type": "code",
   "execution_count": null,
   "metadata": {
    "ExecuteTime": {
     "end_time": "2016-09-25T17:14:10.292860",
     "start_time": "2016-09-25T17:14:10.287945"
    },
    "collapsed": false
   },
   "outputs": [],
   "source": [
    "Z = np.eye(3)\n",
    "print(Z)"
   ]
  },
  {
   "cell_type": "markdown",
   "metadata": {},
   "source": [
    "## 012. [★☆☆] ランダムな要素が入っている$3 \\times 3 \\times 3$の行列を生成"
   ]
  },
  {
   "cell_type": "code",
   "execution_count": null,
   "metadata": {
    "ExecuteTime": {
     "end_time": "2016-09-25T17:14:10.301903",
     "start_time": "2016-09-25T17:14:10.295078"
    },
    "collapsed": false
   },
   "outputs": [],
   "source": [
    "Z = np.random.random((3,3,3))\n",
    "print(Z)"
   ]
  },
  {
   "cell_type": "markdown",
   "metadata": {},
   "source": [
    "## 013. [★☆☆] ランダムな要素の$10 \\times 10$行列を生成し、最大値と最小値を表示"
   ]
  },
  {
   "cell_type": "code",
   "execution_count": null,
   "metadata": {
    "ExecuteTime": {
     "end_time": "2016-09-25T17:14:10.308198",
     "start_time": "2016-09-25T17:14:10.303849"
    },
    "collapsed": false
   },
   "outputs": [],
   "source": [
    "Z = np.random.random((10,10))\n",
    "Zmin = Z.min(); Zmax = Z.max()\n",
    "print(Zmin, Zmax)"
   ]
  },
  {
   "cell_type": "markdown",
   "metadata": {},
   "source": [
    "## 014. [★☆☆] サイズ30でランダムな要素のベクトルを生成し、要素の平均値を表示"
   ]
  },
  {
   "cell_type": "code",
   "execution_count": null,
   "metadata": {
    "ExecuteTime": {
     "end_time": "2016-09-25T17:14:10.315271",
     "start_time": "2016-09-25T17:14:10.309954"
    },
    "collapsed": false
   },
   "outputs": [],
   "source": [
    "Z = np.random.random(30)\n",
    "Zmean = Z.mean()\n",
    "print(Zmean)"
   ]
  },
  {
   "cell_type": "markdown",
   "metadata": {},
   "source": [
    "## 015. [★☆☆] 0のまわりを1が囲むような2次元行列を生成"
   ]
  },
  {
   "cell_type": "code",
   "execution_count": null,
   "metadata": {
    "ExecuteTime": {
     "end_time": "2016-09-25T17:14:10.330002",
     "start_time": "2016-09-25T17:14:10.316733"
    },
    "collapsed": false
   },
   "outputs": [],
   "source": [
    "Z = np.ones((10,10))\n",
    "Z[1:-1, 1:-1] = 0\n",
    "print(Z)"
   ]
  },
  {
   "cell_type": "markdown",
   "metadata": {},
   "source": [
    "## 016. [★☆☆] もともとある行列を使って周りを0で囲むような行列を生成"
   ]
  },
  {
   "cell_type": "code",
   "execution_count": null,
   "metadata": {
    "ExecuteTime": {
     "end_time": "2016-09-25T17:14:10.343126",
     "start_time": "2016-09-25T17:14:10.331508"
    },
    "collapsed": false
   },
   "outputs": [],
   "source": [
    "Z = np.ones((5,5))\n",
    "Z = np.pad(Z, pad_width=1, mode='constant', constant_values=0)\n",
    "print(Z)"
   ]
  },
  {
   "cell_type": "markdown",
   "metadata": {},
   "source": [
    "## 017. [★☆☆] 以下の式を評価するとどのような結果になるか"
   ]
  },
  {
   "cell_type": "code",
   "execution_count": null,
   "metadata": {
    "ExecuteTime": {
     "end_time": "2016-09-25T17:14:10.354259",
     "start_time": "2016-09-25T17:14:10.344818"
    },
    "collapsed": false
   },
   "outputs": [],
   "source": [
    "print(0 * np.nan)\n",
    "print(np.nan == np.nan)\n",
    "print(np.inf > np.nan)\n",
    "print(np.nan - np.nan)\n",
    "print(0.3 == 3 * 0.1)"
   ]
  },
  {
   "cell_type": "markdown",
   "metadata": {},
   "source": [
    "## 018. [★☆☆] $5 \\times 5$を生成し、要素*[1,2,3,4]*を対角要素より一つ下に入れる"
   ]
  },
  {
   "cell_type": "code",
   "execution_count": null,
   "metadata": {
    "ExecuteTime": {
     "end_time": "2016-09-25T17:14:10.366376",
     "start_time": "2016-09-25T17:14:10.356103"
    },
    "collapsed": false
   },
   "outputs": [],
   "source": [
    "Z = np.diag(1+np.arange(4), k=-1)\n",
    "print(Z)"
   ]
  },
  {
   "cell_type": "markdown",
   "metadata": {},
   "source": [
    "## 019. [★☆☆] $8 \\times 8$の行列を生成し、チェッカーボードパターンとなるよう要素を入れる"
   ]
  },
  {
   "cell_type": "code",
   "execution_count": null,
   "metadata": {
    "ExecuteTime": {
     "end_time": "2016-09-25T17:14:10.378192",
     "start_time": "2016-09-25T17:14:10.368160"
    },
    "collapsed": false
   },
   "outputs": [],
   "source": [
    "Z = np.zeros((8,8), dtype=int)\n",
    "Z[1::2, ::2] = 1\n",
    "Z[::2, 1::2] = 1\n",
    "print(Z)"
   ]
  },
  {
   "cell_type": "markdown",
   "metadata": {},
   "source": [
    "## 020. [★☆☆] $6 \\times 7 \\times 8$の行列において、100番目の要素のインデックス$(x,y,z)$はいくつか"
   ]
  },
  {
   "cell_type": "code",
   "execution_count": null,
   "metadata": {
    "ExecuteTime": {
     "end_time": "2016-09-25T17:14:10.387342",
     "start_time": "2016-09-25T17:14:10.379788"
    },
    "collapsed": false
   },
   "outputs": [],
   "source": [
    "print(np.unravel_index(100,(6,7,8)))"
   ]
  },
  {
   "cell_type": "markdown",
   "metadata": {},
   "source": [
    "## 021. [★☆☆] tileメソッドを用いて$8 \\times 8$のチェッカーボードパターンの行列を生成する"
   ]
  },
  {
   "cell_type": "code",
   "execution_count": null,
   "metadata": {
    "ExecuteTime": {
     "end_time": "2016-09-25T17:14:10.393960",
     "start_time": "2016-09-25T17:14:10.389185"
    },
    "collapsed": false
   },
   "outputs": [],
   "source": [
    "Z = np.tile(np.array([[0,1],[1,0]]),(4,4))\n",
    "print(Z)"
   ]
  },
  {
   "cell_type": "markdown",
   "metadata": {},
   "source": [
    "## 022. [★☆☆] ランダムな$5 \\times 5$行列を正規化する"
   ]
  },
  {
   "cell_type": "code",
   "execution_count": null,
   "metadata": {
    "ExecuteTime": {
     "end_time": "2016-09-25T17:14:10.402580",
     "start_time": "2016-09-25T17:14:10.395777"
    },
    "collapsed": false
   },
   "outputs": [],
   "source": [
    "Z = np.random.random((5,5))\n",
    "Zmax, Zmin = Z.max(), Z.min()\n",
    "Z = (Z - Zmin) / (Zmax - Zmin)\n",
    "print(Z)"
   ]
  },
  {
   "cell_type": "markdown",
   "metadata": {},
   "source": [
    "## 023. [★☆☆] 色を表すような4つの符号なし数値をカスタムdtypeとして生成する"
   ]
  },
  {
   "cell_type": "code",
   "execution_count": null,
   "metadata": {
    "ExecuteTime": {
     "end_time": "2016-09-25T17:14:10.411430",
     "start_time": "2016-09-25T17:14:10.404629"
    },
    "collapsed": true
   },
   "outputs": [],
   "source": [
    "color = np.dtype([(\"r\", np.ubyte, 1),\n",
    "                  (\"g\", np.ubyte, 1),\n",
    "                  (\"b\", np.ubyte, 1),\n",
    "                  (\"a\", np.ubyte, 1)])"
   ]
  },
  {
   "cell_type": "markdown",
   "metadata": {},
   "source": [
    "## 024. [★☆☆] $5 \\times 3$行列と$3 \\times 2$行列を掛け合わせる"
   ]
  },
  {
   "cell_type": "code",
   "execution_count": null,
   "metadata": {
    "ExecuteTime": {
     "end_time": "2016-09-25T17:14:10.420183",
     "start_time": "2016-09-25T17:14:10.414367"
    },
    "collapsed": false
   },
   "outputs": [],
   "source": [
    "Z = np.dot(np.ones((5,3)), np.ones((3,2)))\n",
    "print(Z)"
   ]
  },
  {
   "cell_type": "markdown",
   "metadata": {},
   "source": [
    "## 025. [★☆☆] 与えられたベクトルについて、3から8までの数値について負数にする"
   ]
  },
  {
   "cell_type": "code",
   "execution_count": null,
   "metadata": {
    "ExecuteTime": {
     "end_time": "2016-09-25T17:14:10.428333",
     "start_time": "2016-09-25T17:14:10.421748"
    },
    "collapsed": false
   },
   "outputs": [],
   "source": [
    "Z = np.arange(11)\n",
    "Z[(3 < Z) & (Z <= 8)] *= -1\n",
    "print(Z)"
   ]
  },
  {
   "cell_type": "markdown",
   "metadata": {},
   "source": [
    "## 026. [★☆☆] 下のスクリプトを実行したらどのような出力が得られるか？\n",
    "\n",
    "```python\n",
    "print(sum(range(5), -1))\n",
    "from numpy import *\n",
    "print(sum(range(5), -1))\n",
    "```"
   ]
  },
  {
   "cell_type": "code",
   "execution_count": null,
   "metadata": {
    "ExecuteTime": {
     "end_time": "2016-09-25T17:14:10.442817",
     "start_time": "2016-09-25T17:14:10.429885"
    },
    "collapsed": false
   },
   "outputs": [],
   "source": [
    "print(sum(range(5), -1))\n",
    "from numpy import *\n",
    "print(sum(range(5), -1))"
   ]
  },
  {
   "cell_type": "markdown",
   "metadata": {},
   "source": [
    "## 027. [★☆☆] 整数要素を持つベクトル$Z$について、以下のスクリプトで正しいものは？\n",
    "\n",
    "```python\n",
    "Z ** Z\n",
    "2 << Z >> 2\n",
    "Z <- Z\n",
    "1j * Z\n",
    "Z/1/1\n",
    "Z<Z>Z\n",
    "```"
   ]
  },
  {
   "cell_type": "code",
   "execution_count": null,
   "metadata": {
    "ExecuteTime": {
     "end_time": "2016-09-25T17:14:10.453873",
     "start_time": "2016-09-25T17:14:10.444888"
    },
    "collapsed": true
   },
   "outputs": [],
   "source": [
    "import numpy as np"
   ]
  },
  {
   "cell_type": "code",
   "execution_count": null,
   "metadata": {
    "ExecuteTime": {
     "end_time": "2016-09-25T17:14:10.480629",
     "start_time": "2016-09-25T17:14:10.455975"
    },
    "collapsed": false
   },
   "outputs": [],
   "source": [
    "Z ** Z\n",
    "2 << Z >> 2\n",
    "Z <- Z\n",
    "1j * Z\n",
    "Z/1/1\n",
    "#Z<Z>Z"
   ]
  },
  {
   "cell_type": "markdown",
   "metadata": {},
   "source": [
    "## 028. [★☆☆] 以下のスクリプトの結果はどのようなものになるか？\n",
    "\n",
    "```python\n",
    "print(np.array(0) / np.array(0))\n",
    "print(np.array(0) // np.array(0))\n",
    "print(np.array([np.nan]).astype(int).astype(float))\n",
    "```"
   ]
  },
  {
   "cell_type": "code",
   "execution_count": null,
   "metadata": {
    "ExecuteTime": {
     "end_time": "2016-09-25T17:14:10.491134",
     "start_time": "2016-09-25T17:14:10.482403"
    },
    "collapsed": false
   },
   "outputs": [],
   "source": [
    "#print(np.array(0) / np.array(0))\n",
    "#print(np.array(0) // np.array(0))\n",
    "print(np.array([np.nan]).astype(int).astype(float))"
   ]
  },
  {
   "cell_type": "markdown",
   "metadata": {},
   "source": [
    "## 029. [★☆☆] 浮動小数点行列からどのように小数点以下切り上げを行うか"
   ]
  },
  {
   "cell_type": "code",
   "execution_count": null,
   "metadata": {
    "ExecuteTime": {
     "end_time": "2016-09-25T17:14:10.500672",
     "start_time": "2016-09-25T17:14:10.493391"
    },
    "collapsed": false
   },
   "outputs": [],
   "source": [
    "Z = np.random.uniform(-10, +10, 10)\n",
    "print(np.trunc(Z + np.copysign(0.5, Z)))"
   ]
  },
  {
   "cell_type": "markdown",
   "metadata": {},
   "source": [
    "## 030. [★☆☆] ２つの行列の中で共通の要素をどのように見つけるか"
   ]
  },
  {
   "cell_type": "code",
   "execution_count": null,
   "metadata": {
    "ExecuteTime": {
     "end_time": "2016-09-25T17:14:10.509156",
     "start_time": "2016-09-25T17:14:10.502420"
    },
    "collapsed": false
   },
   "outputs": [],
   "source": [
    "Z1 = np.random.randint(0, 10, 10)\n",
    "Z2 = np.random.randint(0, 10, 10)\n",
    "print(np.intersect1d(Z1, Z2))"
   ]
  },
  {
   "cell_type": "markdown",
   "metadata": {},
   "source": [
    "## 031. [★☆☆] numpyのWarningをすべて無視するようにする"
   ]
  },
  {
   "cell_type": "code",
   "execution_count": null,
   "metadata": {
    "ExecuteTime": {
     "end_time": "2016-09-25T17:16:18.578820",
     "start_time": "2016-09-25T17:16:18.573244"
    },
    "collapsed": true
   },
   "outputs": [],
   "source": [
    "defaults = np.seterr(all='ignore')\n",
    "Z = np.ones(1) / 0\n",
    "\n",
    "_ = np.seterr(**defaults)"
   ]
  },
  {
   "cell_type": "markdown",
   "metadata": {},
   "source": [
    "## 032. [★☆☆] 以下の式はTrueになるか？"
   ]
  },
  {
   "cell_type": "code",
   "execution_count": null,
   "metadata": {
    "ExecuteTime": {
     "end_time": "2016-09-25T17:16:19.949385",
     "start_time": "2016-09-25T17:16:19.942248"
    },
    "collapsed": false
   },
   "outputs": [],
   "source": [
    "print(np.sqrt(-1) == np.emath.sqrt(-1))"
   ]
  },
  {
   "cell_type": "markdown",
   "metadata": {},
   "source": [
    "## 033. [★☆☆] 昨日・今日・明日の日付はどのように取得するか"
   ]
  },
  {
   "cell_type": "code",
   "execution_count": null,
   "metadata": {
    "ExecuteTime": {
     "end_time": "2016-09-25T17:14:10.531250",
     "start_time": "2016-09-25T17:14:10.525696"
    },
    "collapsed": false
   },
   "outputs": [],
   "source": [
    "yesterday = np.datetime64('today', 'D') - np.timedelta64(1, 'D')\n",
    "today      = np.datetime64('today', 'D')\n",
    "tomorroq = np.datetime64('today', 'D') + np.timedelta64(1, 'D')"
   ]
  },
  {
   "cell_type": "markdown",
   "metadata": {},
   "source": [
    "## 034. [★★☆] 2016年6月のカレンダーを取得するにはどうしたらよいか"
   ]
  },
  {
   "cell_type": "code",
   "execution_count": null,
   "metadata": {
    "ExecuteTime": {
     "end_time": "2016-09-25T17:14:10.544659",
     "start_time": "2016-09-25T17:14:10.533261"
    },
    "collapsed": false
   },
   "outputs": [],
   "source": [
    "Z = np.arange('2016-07', '2016-08', dtype='datetime64[D]')\n",
    "print(Z)"
   ]
  },
  {
   "cell_type": "markdown",
   "metadata": {},
   "source": [
    "## 035. [★★☆] 行列をコピーせずに、$(A+B) \\times \\frac{-A}{2}$を計算する"
   ]
  },
  {
   "cell_type": "code",
   "execution_count": null,
   "metadata": {
    "ExecuteTime": {
     "end_time": "2016-09-25T17:14:10.557705",
     "start_time": "2016-09-25T17:14:10.546582"
    },
    "collapsed": false
   },
   "outputs": [],
   "source": [
    "A = np.ones(3) * 1\n",
    "B = np.ones(3) * 2\n",
    "C = np.ones(3) * 3\n",
    "\n",
    "np.add(A, B, out=B)\n",
    "np.divide(A, 2, out=A)\n",
    "np.negative(A, out=A)\n",
    "np.multiply(A, B, out=A)"
   ]
  },
  {
   "cell_type": "markdown",
   "metadata": {},
   "source": [
    "## 036. [★★☆] 5つの異なったメソッドを用いて行列から整数を取り出す"
   ]
  },
  {
   "cell_type": "code",
   "execution_count": null,
   "metadata": {
    "ExecuteTime": {
     "end_time": "2016-09-25T17:14:10.576174",
     "start_time": "2016-09-25T17:14:10.559360"
    },
    "collapsed": false
   },
   "outputs": [],
   "source": [
    "Z = np.random.uniform(0, 10, 10)\n",
    "\n",
    "print(Z - Z%1)\n",
    "print(np.floor(Z))\n",
    "print(np.ceil(Z) - 1)\n",
    "print(Z.astype(int))\n",
    "print(np.trunc(Z))"
   ]
  },
  {
   "cell_type": "markdown",
   "metadata": {},
   "source": [
    "## 037. [★★☆] 列要素が0〜4の$5 \\times 5$の行列を生成する"
   ]
  },
  {
   "cell_type": "code",
   "execution_count": null,
   "metadata": {
    "ExecuteTime": {
     "end_time": "2016-09-25T17:14:10.588374",
     "start_time": "2016-09-25T17:14:10.578413"
    },
    "collapsed": false
   },
   "outputs": [],
   "source": [
    "Z = np.zeros((5, 5))\n",
    "Z += np.arange(5)\n",
    "print(Z)"
   ]
  },
  {
   "cell_type": "markdown",
   "metadata": {},
   "source": [
    "## 038. [★★☆] 整数10個からなる行列を生成するためのジェネレータ関数を定義"
   ]
  },
  {
   "cell_type": "code",
   "execution_count": null,
   "metadata": {
    "ExecuteTime": {
     "end_time": "2016-09-25T17:14:10.601443",
     "start_time": "2016-09-25T17:14:10.590402"
    },
    "collapsed": false
   },
   "outputs": [],
   "source": [
    "def generate():\n",
    "    for x in range(10):\n",
    "        yield x\n",
    "\n",
    "Z = np.fromiter(generate(), dtype=float, count= -1)\n",
    "print(Z)"
   ]
  },
  {
   "cell_type": "markdown",
   "metadata": {},
   "source": [
    "## 039. [★★☆] 0から1の範囲の値を持つサイズ10のベクトルを生成"
   ]
  },
  {
   "cell_type": "code",
   "execution_count": null,
   "metadata": {
    "ExecuteTime": {
     "end_time": "2016-09-25T17:14:10.608929",
     "start_time": "2016-09-25T17:14:10.603521"
    },
    "collapsed": false
   },
   "outputs": [],
   "source": [
    "Z = np.linspace(0, 1, 12, endpoint=True)[1:-1]\n",
    "print(Z)"
   ]
  }
 ],
 "metadata": {
  "anaconda-cloud": {},
  "kernelspec": {
   "display_name": "Python [default]",
   "language": "python",
   "name": "python3"
  },
  "language_info": {
   "codemirror_mode": {
    "name": "ipython",
    "version": 3
   },
   "file_extension": ".py",
   "mimetype": "text/x-python",
   "name": "python",
   "nbconvert_exporter": "python",
   "pygments_lexer": "ipython3",
   "version": "3.5.2"
  }
 },
 "nbformat": 4,
 "nbformat_minor": 0
}
